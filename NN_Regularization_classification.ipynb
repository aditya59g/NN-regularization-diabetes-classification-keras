{
  "nbformat": 4,
  "nbformat_minor": 0,
  "metadata": {
    "colab": {
      "name": "Assignment 3 Regularization.ipynb",
      "provenance": [],
      "collapsed_sections": []
    },
    "kernelspec": {
      "name": "python3",
      "display_name": "Python 3"
    },
    "language_info": {
      "name": "python"
    }
  },
  "cells": [
    {
      "cell_type": "code",
      "metadata": {
        "id": "nvF6HrHT-zLr"
      },
      "source": [
        "import pandas as pd\n",
        "import numpy as np\n",
        "from sklearn.model_selection import train_test_split\n",
        "from keras.models import Sequential\n",
        "from keras.layers import Dense,Dropout\n",
        "from keras.callbacks import EarlyStopping, ModelCheckpoint\n",
        "from sklearn import metrics\n",
        "from keras.regularizers import l1,l2\n",
        "from keras.models import load_model"
      ],
      "execution_count": null,
      "outputs": []
    },
    {
      "cell_type": "code",
      "metadata": {
        "id": "EjpQrzQaBijJ"
      },
      "source": [
        "df = pd.read_csv('diabetes.csv')"
      ],
      "execution_count": null,
      "outputs": []
    },
    {
      "cell_type": "code",
      "metadata": {
        "colab": {
          "base_uri": "https://localhost:8080/",
          "height": 196
        },
        "id": "TGgOCR1vBicR",
        "outputId": "c45295b7-1c6a-4a47-fc26-cad64b8533df"
      },
      "source": [
        "df.head()"
      ],
      "execution_count": null,
      "outputs": [
        {
          "output_type": "execute_result",
          "data": {
            "text/html": [
              "<div>\n",
              "<style scoped>\n",
              "    .dataframe tbody tr th:only-of-type {\n",
              "        vertical-align: middle;\n",
              "    }\n",
              "\n",
              "    .dataframe tbody tr th {\n",
              "        vertical-align: top;\n",
              "    }\n",
              "\n",
              "    .dataframe thead th {\n",
              "        text-align: right;\n",
              "    }\n",
              "</style>\n",
              "<table border=\"1\" class=\"dataframe\">\n",
              "  <thead>\n",
              "    <tr style=\"text-align: right;\">\n",
              "      <th></th>\n",
              "      <th>Pregnancies</th>\n",
              "      <th>Glucose</th>\n",
              "      <th>BloodPressure</th>\n",
              "      <th>SkinThickness</th>\n",
              "      <th>Insulin</th>\n",
              "      <th>BMI</th>\n",
              "      <th>DiabetesPedigreeFunction</th>\n",
              "      <th>Age</th>\n",
              "      <th>Outcome</th>\n",
              "    </tr>\n",
              "  </thead>\n",
              "  <tbody>\n",
              "    <tr>\n",
              "      <th>0</th>\n",
              "      <td>6</td>\n",
              "      <td>148</td>\n",
              "      <td>72</td>\n",
              "      <td>35</td>\n",
              "      <td>0</td>\n",
              "      <td>33.6</td>\n",
              "      <td>0.627</td>\n",
              "      <td>50</td>\n",
              "      <td>1</td>\n",
              "    </tr>\n",
              "    <tr>\n",
              "      <th>1</th>\n",
              "      <td>1</td>\n",
              "      <td>85</td>\n",
              "      <td>66</td>\n",
              "      <td>29</td>\n",
              "      <td>0</td>\n",
              "      <td>26.6</td>\n",
              "      <td>0.351</td>\n",
              "      <td>31</td>\n",
              "      <td>0</td>\n",
              "    </tr>\n",
              "    <tr>\n",
              "      <th>2</th>\n",
              "      <td>8</td>\n",
              "      <td>183</td>\n",
              "      <td>64</td>\n",
              "      <td>0</td>\n",
              "      <td>0</td>\n",
              "      <td>23.3</td>\n",
              "      <td>0.672</td>\n",
              "      <td>32</td>\n",
              "      <td>1</td>\n",
              "    </tr>\n",
              "    <tr>\n",
              "      <th>3</th>\n",
              "      <td>1</td>\n",
              "      <td>89</td>\n",
              "      <td>66</td>\n",
              "      <td>23</td>\n",
              "      <td>94</td>\n",
              "      <td>28.1</td>\n",
              "      <td>0.167</td>\n",
              "      <td>21</td>\n",
              "      <td>0</td>\n",
              "    </tr>\n",
              "    <tr>\n",
              "      <th>4</th>\n",
              "      <td>0</td>\n",
              "      <td>137</td>\n",
              "      <td>40</td>\n",
              "      <td>35</td>\n",
              "      <td>168</td>\n",
              "      <td>43.1</td>\n",
              "      <td>2.288</td>\n",
              "      <td>33</td>\n",
              "      <td>1</td>\n",
              "    </tr>\n",
              "  </tbody>\n",
              "</table>\n",
              "</div>"
            ],
            "text/plain": [
              "   Pregnancies  Glucose  BloodPressure  ...  DiabetesPedigreeFunction  Age  Outcome\n",
              "0            6      148             72  ...                     0.627   50        1\n",
              "1            1       85             66  ...                     0.351   31        0\n",
              "2            8      183             64  ...                     0.672   32        1\n",
              "3            1       89             66  ...                     0.167   21        0\n",
              "4            0      137             40  ...                     2.288   33        1\n",
              "\n",
              "[5 rows x 9 columns]"
            ]
          },
          "metadata": {
            "tags": []
          },
          "execution_count": 3
        }
      ]
    },
    {
      "cell_type": "code",
      "metadata": {
        "id": "eGc4Hk62Cznj"
      },
      "source": [
        "df_label = df['Outcome']\n",
        "copy_data = df.copy()\n",
        "copy_data.drop(['Outcome'], axis = 1, inplace = True)"
      ],
      "execution_count": null,
      "outputs": []
    },
    {
      "cell_type": "code",
      "metadata": {
        "id": "7-Z05xV2totm"
      },
      "source": [
        "label = []\n",
        "for lab in df_label:\n",
        "    if lab == 1:\n",
        "        label.append([1, 0])  # class 1\n",
        "    elif lab == 0:\n",
        "        label.append([0, 1])  # class 0"
      ],
      "execution_count": null,
      "outputs": []
    },
    {
      "cell_type": "code",
      "metadata": {
        "colab": {
          "base_uri": "https://localhost:8080/"
        },
        "id": "a6Ao_nrkuL8a",
        "outputId": "7691725f-1cc3-426e-8859-d8ba27a27956"
      },
      "source": [
        "data = np.array(copy_data)\n",
        "label = np.array(label)\n",
        "print(data.shape,label.shape)"
      ],
      "execution_count": null,
      "outputs": [
        {
          "output_type": "stream",
          "text": [
            "(768, 8) (768, 2)\n"
          ],
          "name": "stdout"
        }
      ]
    },
    {
      "cell_type": "code",
      "metadata": {
        "id": "OynrLZwHCjaK"
      },
      "source": [
        "X_train, X_test, y_train, y_test = train_test_split(copy_data, label, test_size=0.2,random_state=100)"
      ],
      "execution_count": null,
      "outputs": []
    },
    {
      "cell_type": "code",
      "metadata": {
        "id": "CdrUkeHjXiQ8"
      },
      "source": [
        ""
      ],
      "execution_count": null,
      "outputs": []
    },
    {
      "cell_type": "markdown",
      "metadata": {
        "id": "R9BxmD0t15KE"
      },
      "source": [
        "### **L2 Regularization** "
      ]
    },
    {
      "cell_type": "code",
      "metadata": {
        "id": "JluV7-qd15KJ"
      },
      "source": [
        "# define the keras model\n",
        "model1 = Sequential()\n",
        "model1.add(Dense(500, input_dim=8, activation='sigmoid',kernel_regularizer=l2(0.0001),bias_regularizer=l2(0.0001),activity_regularizer=l2(0.0001)))\n",
        "model1.add(Dense(100, activation='sigmoid',kernel_regularizer=l2(0.0001),bias_regularizer=l2(0.0001),activity_regularizer=l2(0.0001)))\n",
        "model1.add(Dense(2, activation='softmax'))"
      ],
      "execution_count": null,
      "outputs": []
    },
    {
      "cell_type": "code",
      "metadata": {
        "colab": {
          "base_uri": "https://localhost:8080/"
        },
        "id": "wbbFB8G_15KK",
        "outputId": "b8281ab4-8921-41d2-e34e-90e9794c8a58"
      },
      "source": [
        "# compile the keras model\n",
        "model1.compile(loss='binary_crossentropy', optimizer='adam', metrics=['accuracy'])\n",
        "# fit the keras model on the dataset\n",
        "model1.fit(X_train, y_train, epochs=1000, batch_size=70, verbose=0)"
      ],
      "execution_count": null,
      "outputs": [
        {
          "output_type": "execute_result",
          "data": {
            "text/plain": [
              "<tensorflow.python.keras.callbacks.History at 0x7fbce7b6cfd0>"
            ]
          },
          "metadata": {
            "tags": []
          },
          "execution_count": 9
        }
      ]
    },
    {
      "cell_type": "code",
      "metadata": {
        "colab": {
          "base_uri": "https://localhost:8080/"
        },
        "id": "3Ol6r8O215KO",
        "outputId": "06131e82-803b-4946-b698-8351a171fb72"
      },
      "source": [
        "# evaluate the keras model\n",
        "_, train_accuracy1 = model1.evaluate(X_train, y_train, verbose=0)\n",
        "_, test_accuracy1 = model1.evaluate(X_test, y_test, verbose=0)\n",
        "print('Train Accuracy: %.2f, Test Accuracy: %.2f' % (train_accuracy1*100,test_accuracy1*100))"
      ],
      "execution_count": null,
      "outputs": [
        {
          "output_type": "stream",
          "text": [
            "Train Accuracy: 97.56, Test Accuracy: 66.88\n"
          ],
          "name": "stdout"
        }
      ]
    },
    {
      "cell_type": "code",
      "metadata": {
        "colab": {
          "base_uri": "https://localhost:8080/"
        },
        "id": "ODQdLer215KO",
        "outputId": "146506b2-9076-49fd-f600-5e5ab8e26881"
      },
      "source": [
        "# make class predictions with the model\n",
        "y_pred1 = model1.predict_classes(X_test)"
      ],
      "execution_count": null,
      "outputs": [
        {
          "output_type": "stream",
          "text": [
            "/usr/local/lib/python3.7/dist-packages/tensorflow/python/keras/engine/sequential.py:450: UserWarning: `model.predict_classes()` is deprecated and will be removed after 2021-01-01. Please use instead:* `np.argmax(model.predict(x), axis=-1)`,   if your model does multi-class classification   (e.g. if it uses a `softmax` last-layer activation).* `(model.predict(x) > 0.5).astype(\"int32\")`,   if your model does binary classification   (e.g. if it uses a `sigmoid` last-layer activation).\n",
            "  warnings.warn('`model.predict_classes()` is deprecated and '\n"
          ],
          "name": "stderr"
        }
      ]
    },
    {
      "cell_type": "code",
      "metadata": {
        "id": "_0tfdzf815KP"
      },
      "source": [
        "y_test_maxidx1=np.argmax(y_test, axis=1)"
      ],
      "execution_count": null,
      "outputs": []
    },
    {
      "cell_type": "code",
      "metadata": {
        "colab": {
          "base_uri": "https://localhost:8080/"
        },
        "id": "akzWDJQd15KQ",
        "outputId": "84daed60-2cac-4160-ad20-6c983f8b3674"
      },
      "source": [
        "print(\"Accuracy:\",metrics.accuracy_score(y_test_maxidx1, y_pred1))\n",
        "print(\"f1 score:\",metrics.f1_score(y_test_maxidx1, y_pred1))\n",
        "print(\"Precision:\",metrics.precision_score(y_test_maxidx1, y_pred1))\n",
        "print(\"Recall:\",metrics.recall_score(y_test_maxidx1, y_pred1))"
      ],
      "execution_count": null,
      "outputs": [
        {
          "output_type": "stream",
          "text": [
            "Accuracy: 0.6688311688311688\n",
            "f1 score: 0.748768472906404\n",
            "Precision: 0.7450980392156863\n",
            "Recall: 0.7524752475247525\n"
          ],
          "name": "stdout"
        }
      ]
    },
    {
      "cell_type": "code",
      "metadata": {
        "id": "fw2F6A9qXsHS"
      },
      "source": [
        ""
      ],
      "execution_count": null,
      "outputs": []
    },
    {
      "cell_type": "code",
      "metadata": {
        "id": "cNAsO75PXr7J"
      },
      "source": [
        ""
      ],
      "execution_count": null,
      "outputs": []
    },
    {
      "cell_type": "markdown",
      "metadata": {
        "id": "EoIgindu5RvC"
      },
      "source": [
        "### **L1 Regularization** "
      ]
    },
    {
      "cell_type": "code",
      "metadata": {
        "id": "mwXEkz0A5Rva"
      },
      "source": [
        "# define the keras model\n",
        "model2 = Sequential()\n",
        "model2.add(Dense(500, input_dim=8, activation='sigmoid',kernel_regularizer=l1(0.0001),bias_regularizer=l1(0.0001),activity_regularizer=l1(0.0001)))\n",
        "model2.add(Dense(100, activation='sigmoid',kernel_regularizer=l1(0.0001),bias_regularizer=l1(0.0001),activity_regularizer=l1(0.0001)))\n",
        "model2.add(Dense(2, activation='softmax'))"
      ],
      "execution_count": null,
      "outputs": []
    },
    {
      "cell_type": "code",
      "metadata": {
        "colab": {
          "base_uri": "https://localhost:8080/"
        },
        "id": "gvaBicVz5Rvc",
        "outputId": "5948dd9a-eaa4-44e8-ebff-56db4f18ab54"
      },
      "source": [
        "# compile the keras model\n",
        "model2.compile(loss='binary_crossentropy', optimizer='adam', metrics=['accuracy'])\n",
        "# fit the keras model on the dataset\n",
        "model2.fit(X_train, y_train, epochs=1000, batch_size=70, verbose=0)"
      ],
      "execution_count": null,
      "outputs": [
        {
          "output_type": "execute_result",
          "data": {
            "text/plain": [
              "<tensorflow.python.keras.callbacks.History at 0x7fbce4b1cf10>"
            ]
          },
          "metadata": {
            "tags": []
          },
          "execution_count": 15
        }
      ]
    },
    {
      "cell_type": "code",
      "metadata": {
        "colab": {
          "base_uri": "https://localhost:8080/"
        },
        "id": "rKCQEOm75Rvg",
        "outputId": "83733e8c-0687-4761-e386-392d8eebab7e"
      },
      "source": [
        "# evaluate the keras model\n",
        "_, train_accuracy2 = model2.evaluate(X_train, y_train, verbose=0)\n",
        "_, test_accuracy2 = model2.evaluate(X_test, y_test, verbose=0)\n",
        "print('Train Accuracy: %.2f, Test Accuracy: %.2f' % (train_accuracy2*100,test_accuracy2*100))"
      ],
      "execution_count": null,
      "outputs": [
        {
          "output_type": "stream",
          "text": [
            "Train Accuracy: 95.11, Test Accuracy: 70.13\n"
          ],
          "name": "stdout"
        }
      ]
    },
    {
      "cell_type": "code",
      "metadata": {
        "colab": {
          "base_uri": "https://localhost:8080/"
        },
        "id": "4mYzpAno5Rvh",
        "outputId": "1ef04f73-ba2f-43ea-fbf8-a3125be6621e"
      },
      "source": [
        "# make class predictions with the model\n",
        "y_pred2 = model2.predict_classes(X_test)"
      ],
      "execution_count": null,
      "outputs": [
        {
          "output_type": "stream",
          "text": [
            "/usr/local/lib/python3.7/dist-packages/tensorflow/python/keras/engine/sequential.py:450: UserWarning: `model.predict_classes()` is deprecated and will be removed after 2021-01-01. Please use instead:* `np.argmax(model.predict(x), axis=-1)`,   if your model does multi-class classification   (e.g. if it uses a `softmax` last-layer activation).* `(model.predict(x) > 0.5).astype(\"int32\")`,   if your model does binary classification   (e.g. if it uses a `sigmoid` last-layer activation).\n",
            "  warnings.warn('`model.predict_classes()` is deprecated and '\n"
          ],
          "name": "stderr"
        }
      ]
    },
    {
      "cell_type": "code",
      "metadata": {
        "id": "8bx9nwmn5Rvi"
      },
      "source": [
        "y_test_maxidx2=np.argmax(y_test, axis=1)"
      ],
      "execution_count": null,
      "outputs": []
    },
    {
      "cell_type": "code",
      "metadata": {
        "colab": {
          "base_uri": "https://localhost:8080/"
        },
        "id": "tZ8QyFZQ5Rvj",
        "outputId": "127537b9-8321-4bbc-a025-69def9b3c508"
      },
      "source": [
        "print(\"Accuracy:\",metrics.accuracy_score(y_test_maxidx2, y_pred2))\n",
        "print(\"f1 score:\",metrics.f1_score(y_test_maxidx2, y_pred2))\n",
        "print(\"Precision:\",metrics.precision_score(y_test_maxidx2, y_pred2))\n",
        "print(\"Recall:\",metrics.recall_score(y_test_maxidx2, y_pred2))"
      ],
      "execution_count": null,
      "outputs": [
        {
          "output_type": "stream",
          "text": [
            "Accuracy: 0.7012987012987013\n",
            "f1 score: 0.7788461538461539\n",
            "Precision: 0.7570093457943925\n",
            "Recall: 0.801980198019802\n"
          ],
          "name": "stdout"
        }
      ]
    },
    {
      "cell_type": "code",
      "metadata": {
        "id": "nCyNUD_z5Rvk"
      },
      "source": [
        ""
      ],
      "execution_count": null,
      "outputs": []
    },
    {
      "cell_type": "code",
      "metadata": {
        "id": "OfroZaiLX4eC"
      },
      "source": [
        ""
      ],
      "execution_count": null,
      "outputs": []
    },
    {
      "cell_type": "markdown",
      "metadata": {
        "id": "A9qih7dx4-AP"
      },
      "source": [
        "### **Dropout** "
      ]
    },
    {
      "cell_type": "code",
      "metadata": {
        "id": "3C0EF62t21oO"
      },
      "source": [
        "# define the keras model\n",
        "model3 = Sequential()\n",
        "\n",
        "model3.add(Dense(500, input_dim=8, activation='sigmoid'))\n",
        "model3.add(Dropout(0.3,noise_shape=None, seed=None))\n",
        "\n",
        "model3.add(Dense(100, activation='sigmoid'))\n",
        "model3.add(Dropout(0.2,noise_shape=None, seed=None))\n",
        "\n",
        "model3.add(Dense(2, activation='softmax'))"
      ],
      "execution_count": null,
      "outputs": []
    },
    {
      "cell_type": "code",
      "metadata": {
        "colab": {
          "base_uri": "https://localhost:8080/"
        },
        "id": "IJXO6xS9DkHN",
        "outputId": "350a8f02-a50f-498e-f504-1c9c181ef095"
      },
      "source": [
        "# compile the keras model\n",
        "model3.compile(loss='binary_crossentropy', optimizer='adam', metrics=['accuracy'])\n",
        "# fit the keras model on the dataset\n",
        "model3.fit(X_train, y_train, epochs=1000, batch_size=70, verbose=0)"
      ],
      "execution_count": null,
      "outputs": [
        {
          "output_type": "execute_result",
          "data": {
            "text/plain": [
              "<tensorflow.python.keras.callbacks.History at 0x7fbce38ea6d0>"
            ]
          },
          "metadata": {
            "tags": []
          },
          "execution_count": 21
        }
      ]
    },
    {
      "cell_type": "code",
      "metadata": {
        "id": "ChuEdiexDkEz",
        "colab": {
          "base_uri": "https://localhost:8080/"
        },
        "outputId": "35f2d3c3-0b34-427e-b14a-c75cb536d373"
      },
      "source": [
        "# evaluate the keras model\n",
        "_, train_accuracy3 = model3.evaluate(X_train, y_train, verbose=0)\n",
        "_, test_accuracy3 = model3.evaluate(X_test, y_test, verbose=0)\n",
        "print('Train Accuracy: %.2f, Test Accuracy: %.2f' % (train_accuracy3*100,test_accuracy3*100))"
      ],
      "execution_count": null,
      "outputs": [
        {
          "output_type": "stream",
          "text": [
            "Train Accuracy: 93.97, Test Accuracy: 74.68\n"
          ],
          "name": "stdout"
        }
      ]
    },
    {
      "cell_type": "code",
      "metadata": {
        "id": "-jxtLJ7vDkCC",
        "colab": {
          "base_uri": "https://localhost:8080/"
        },
        "outputId": "d12a1c09-04c4-490a-864e-0aabb3de5038"
      },
      "source": [
        "# make class predictions with the model\n",
        "y_pred3 = model3.predict_classes(X_test)"
      ],
      "execution_count": null,
      "outputs": [
        {
          "output_type": "stream",
          "text": [
            "/usr/local/lib/python3.7/dist-packages/tensorflow/python/keras/engine/sequential.py:450: UserWarning: `model.predict_classes()` is deprecated and will be removed after 2021-01-01. Please use instead:* `np.argmax(model.predict(x), axis=-1)`,   if your model does multi-class classification   (e.g. if it uses a `softmax` last-layer activation).* `(model.predict(x) > 0.5).astype(\"int32\")`,   if your model does binary classification   (e.g. if it uses a `sigmoid` last-layer activation).\n",
            "  warnings.warn('`model.predict_classes()` is deprecated and '\n"
          ],
          "name": "stderr"
        }
      ]
    },
    {
      "cell_type": "code",
      "metadata": {
        "id": "4jc0ERfM06Z-"
      },
      "source": [
        "y_test_maxidx3=np.argmax(y_test, axis=1)"
      ],
      "execution_count": null,
      "outputs": []
    },
    {
      "cell_type": "code",
      "metadata": {
        "id": "XrQAGXKcDj_k",
        "colab": {
          "base_uri": "https://localhost:8080/"
        },
        "outputId": "0d1d67a7-04a1-471d-9fd4-e36efbd824b2"
      },
      "source": [
        "print(\"Accuracy:\",metrics.accuracy_score(y_test_maxidx3, y_pred3))\n",
        "print(\"f1 score:\",metrics.f1_score(y_test_maxidx3, y_pred3))\n",
        "print(\"Precision:\",metrics.precision_score(y_test_maxidx3, y_pred3))\n",
        "print(\"Recall:\",metrics.recall_score(y_test_maxidx3, y_pred3))"
      ],
      "execution_count": null,
      "outputs": [
        {
          "output_type": "stream",
          "text": [
            "Accuracy: 0.7467532467532467\n",
            "f1 score: 0.8115942028985508\n",
            "Precision: 0.7924528301886793\n",
            "Recall: 0.8316831683168316\n"
          ],
          "name": "stdout"
        }
      ]
    },
    {
      "cell_type": "code",
      "metadata": {
        "id": "PO4zkktCDDTw"
      },
      "source": [
        ""
      ],
      "execution_count": null,
      "outputs": []
    },
    {
      "cell_type": "markdown",
      "metadata": {
        "id": "CjONFTSmGne6"
      },
      "source": [
        "### **Early Stopping** "
      ]
    },
    {
      "cell_type": "code",
      "metadata": {
        "id": "Fio-anCRGne-"
      },
      "source": [
        "# define the keras model\n",
        "model4 = Sequential()\n",
        "model4.add(Dense(500, input_dim=8, activation='sigmoid'))\n",
        "model4.add(Dense(100, activation='sigmoid'))\n",
        "model4.add(Dense(2, activation='softmax'))"
      ],
      "execution_count": null,
      "outputs": []
    },
    {
      "cell_type": "code",
      "metadata": {
        "colab": {
          "base_uri": "https://localhost:8080/"
        },
        "id": "7vFbdFj0Gne_",
        "outputId": "e179d326-247c-4d07-a5c9-ce96f3b49269"
      },
      "source": [
        "# compile the keras model\n",
        "model4.compile(loss='binary_crossentropy', optimizer='adam', metrics=['accuracy'])\n",
        "\n",
        "# Early stopping with model checkpoint\n",
        "early_stopping = EarlyStopping(monitor='val_loss', mode='min', verbose=0, patience=50)\n",
        "model_checkpoint = ModelCheckpoint('best_model.h5', monitor='val_accuracy', mode='max', verbose=0, save_best_only=True)\n",
        "\n",
        "# fit the keras model on the dataset\n",
        "model4.fit(X_train, y_train,validation_split=0.3, epochs=1000, batch_size=70, verbose=0,callbacks=[early_stopping, model_checkpoint]) "
      ],
      "execution_count": null,
      "outputs": [
        {
          "output_type": "execute_result",
          "data": {
            "text/plain": [
              "<tensorflow.python.keras.callbacks.History at 0x7fbce4af1dd0>"
            ]
          },
          "metadata": {
            "tags": []
          },
          "execution_count": 27
        }
      ]
    },
    {
      "cell_type": "code",
      "metadata": {
        "id": "FK12VrcCVfKw"
      },
      "source": [
        "# load the saved model\n",
        "saved_model = load_model('best_model.h5')"
      ],
      "execution_count": null,
      "outputs": []
    },
    {
      "cell_type": "code",
      "metadata": {
        "colab": {
          "base_uri": "https://localhost:8080/"
        },
        "id": "F94CHdDdGnfA",
        "outputId": "a1b802c5-b4bc-433f-bcca-66ad7988d57c"
      },
      "source": [
        "# evaluate the keras model\n",
        "_, train_accuracy4 = model4.evaluate(X_train, y_train, verbose=0)\n",
        "_, test_accuracy4 = model4.evaluate(X_test, y_test, verbose=0)\n",
        "print('Train Accuracy: %.2f, Test Accuracy: %.2f' % (train_accuracy4*100,test_accuracy4*100))"
      ],
      "execution_count": null,
      "outputs": [
        {
          "output_type": "stream",
          "text": [
            "Train Accuracy: 79.15, Test Accuracy: 70.78\n"
          ],
          "name": "stdout"
        }
      ]
    },
    {
      "cell_type": "code",
      "metadata": {
        "colab": {
          "base_uri": "https://localhost:8080/"
        },
        "id": "SYFXrGMmGnfA",
        "outputId": "74200301-2580-48d2-821c-767195932c9b"
      },
      "source": [
        "# make class predictions with the model\n",
        "y_pred4 = model4.predict_classes(X_test)"
      ],
      "execution_count": null,
      "outputs": [
        {
          "output_type": "stream",
          "text": [
            "/usr/local/lib/python3.7/dist-packages/tensorflow/python/keras/engine/sequential.py:450: UserWarning: `model.predict_classes()` is deprecated and will be removed after 2021-01-01. Please use instead:* `np.argmax(model.predict(x), axis=-1)`,   if your model does multi-class classification   (e.g. if it uses a `softmax` last-layer activation).* `(model.predict(x) > 0.5).astype(\"int32\")`,   if your model does binary classification   (e.g. if it uses a `sigmoid` last-layer activation).\n",
            "  warnings.warn('`model.predict_classes()` is deprecated and '\n"
          ],
          "name": "stderr"
        }
      ]
    },
    {
      "cell_type": "code",
      "metadata": {
        "id": "8vxafwE3GnfB"
      },
      "source": [
        "y_test_maxidx4=np.argmax(y_test, axis=1)"
      ],
      "execution_count": null,
      "outputs": []
    },
    {
      "cell_type": "code",
      "metadata": {
        "colab": {
          "base_uri": "https://localhost:8080/"
        },
        "id": "2V1XTnJaGnfB",
        "outputId": "81c6d07e-c1b5-4dbc-ba63-7b839bd50fd7"
      },
      "source": [
        "print(\"Accuracy:\",metrics.accuracy_score(y_test_maxidx4, y_pred4))\n",
        "print(\"f1 score:\",metrics.f1_score(y_test_maxidx4, y_pred4))\n",
        "print(\"Precision:\",metrics.precision_score(y_test_maxidx4, y_pred4))\n",
        "print(\"Recall:\",metrics.recall_score(y_test_maxidx4, y_pred4))"
      ],
      "execution_count": null,
      "outputs": [
        {
          "output_type": "stream",
          "text": [
            "Accuracy: 0.7077922077922078\n",
            "f1 score: 0.7540983606557378\n",
            "Precision: 0.8414634146341463\n",
            "Recall: 0.6831683168316832\n"
          ],
          "name": "stdout"
        }
      ]
    },
    {
      "cell_type": "code",
      "metadata": {
        "id": "3lcZNw1UGnfB"
      },
      "source": [
        ""
      ],
      "execution_count": null,
      "outputs": []
    },
    {
      "cell_type": "markdown",
      "metadata": {
        "id": "L9grcoAFe6R-"
      },
      "source": [
        "**Comparision table:** \n",
        "\n",
        "\n",
        "![1.jpg](data:image/jpeg;base64,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) "
      ]
    },
    {
      "cell_type": "markdown",
      "metadata": {
        "id": "ksv9Rzz-yia5"
      },
      "source": [
        "**Parameters for each regularization:**\n",
        "\n",
        "L2 : kernel_regularizer=l2(0.0001),bias_regularizer=l2(0.0001),activity_regularizer=l2(0.0001)\n",
        "\n",
        "L1: kernel_regularizer=l1(0.0001),bias_regularizer=l1(0.0001),activity_regularizer=l1(0.0001)\n",
        "\n",
        "Dropout: In first hidden layer dropout of 0.3 taken and in second hidden layer dropout of 0.2 taken.\n",
        "\n",
        "Early Stopping: Minimum Validation loss considered with patience=50."
      ]
    },
    {
      "cell_type": "markdown",
      "metadata": {
        "id": "cXRXZY6YsRjX"
      },
      "source": [
        "**Inference**\n",
        "\n",
        "If we take accuracy and F1 score in consideraton, we can say that dropout performs better compare to others. then early stopping and L1 performs almost similar and then L2.\n",
        "\n",
        "If we take precision in consideraton, Early stopping performs better compare to others. Then dropout,L1 and L2 in descending order.\n",
        "\n",
        "If we take Recall in consideraton, Dropout performs better compare to others. Then L1, L2 and earlystopping in descending order.\n",
        "\n"
      ]
    }
  ]
}